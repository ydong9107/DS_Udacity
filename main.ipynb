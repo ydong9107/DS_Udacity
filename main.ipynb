{
 "cells": [
  {
   "cell_type": "markdown",
   "metadata": {},
   "source": [
    " 0.Import Packages"
   ]
  },
  {
   "cell_type": "code",
   "execution_count": 1,
   "metadata": {},
   "outputs": [],
   "source": [
    "import numpy as np\n",
    "import pandas as pd\n",
    "import matplotlib.pyplot as plt\n",
    "from sklearn import preprocessing\n",
    "from sklearn.linear_model import LinearRegression\n",
    "from sklearn.model_selection import train_test_split\n",
    "from sklearn.metrics import r2_score, mean_squared_error\n",
    "import seaborn as sns\n",
    "import random"
   ]
  },
  {
   "cell_type": "markdown",
   "metadata": {},
   "source": [
    "1. Import the data\n",
    "\n",
    "Before importing this data, we watch in the form of csv table. We find that the first column is exactly the number of rows. When importing these data, we only keep the data from the second column to the last column."
   ]
  },
  {
   "cell_type": "code",
   "execution_count": 2,
   "metadata": {},
   "outputs": [
    {
     "data": {
      "text/html": [
       "<div>\n",
       "<style scoped>\n",
       "    .dataframe tbody tr th:only-of-type {\n",
       "        vertical-align: middle;\n",
       "    }\n",
       "\n",
       "    .dataframe tbody tr th {\n",
       "        vertical-align: top;\n",
       "    }\n",
       "\n",
       "    .dataframe thead th {\n",
       "        text-align: right;\n",
       "    }\n",
       "</style>\n",
       "<table border=\"1\" class=\"dataframe\">\n",
       "  <thead>\n",
       "    <tr style=\"text-align: right;\">\n",
       "      <th></th>\n",
       "      <th>Date</th>\n",
       "      <th>AveragePrice</th>\n",
       "      <th>Total Volume</th>\n",
       "      <th>4046</th>\n",
       "      <th>4225</th>\n",
       "      <th>4770</th>\n",
       "      <th>Total Bags</th>\n",
       "      <th>Small Bags</th>\n",
       "      <th>Large Bags</th>\n",
       "      <th>XLarge Bags</th>\n",
       "      <th>type</th>\n",
       "      <th>year</th>\n",
       "      <th>region</th>\n",
       "    </tr>\n",
       "  </thead>\n",
       "  <tbody>\n",
       "    <tr>\n",
       "      <td>0</td>\n",
       "      <td>2015-12-27</td>\n",
       "      <td>1.33</td>\n",
       "      <td>64236.62</td>\n",
       "      <td>1036.74</td>\n",
       "      <td>54454.85</td>\n",
       "      <td>48.16</td>\n",
       "      <td>8696.87</td>\n",
       "      <td>8603.62</td>\n",
       "      <td>93.25</td>\n",
       "      <td>0.0</td>\n",
       "      <td>conventional</td>\n",
       "      <td>2015</td>\n",
       "      <td>Albany</td>\n",
       "    </tr>\n",
       "    <tr>\n",
       "      <td>1</td>\n",
       "      <td>2015-12-20</td>\n",
       "      <td>1.35</td>\n",
       "      <td>54876.98</td>\n",
       "      <td>674.28</td>\n",
       "      <td>44638.81</td>\n",
       "      <td>58.33</td>\n",
       "      <td>9505.56</td>\n",
       "      <td>9408.07</td>\n",
       "      <td>97.49</td>\n",
       "      <td>0.0</td>\n",
       "      <td>conventional</td>\n",
       "      <td>2015</td>\n",
       "      <td>Albany</td>\n",
       "    </tr>\n",
       "    <tr>\n",
       "      <td>2</td>\n",
       "      <td>2015-12-13</td>\n",
       "      <td>0.93</td>\n",
       "      <td>118220.22</td>\n",
       "      <td>794.70</td>\n",
       "      <td>109149.67</td>\n",
       "      <td>130.50</td>\n",
       "      <td>8145.35</td>\n",
       "      <td>8042.21</td>\n",
       "      <td>103.14</td>\n",
       "      <td>0.0</td>\n",
       "      <td>conventional</td>\n",
       "      <td>2015</td>\n",
       "      <td>Albany</td>\n",
       "    </tr>\n",
       "    <tr>\n",
       "      <td>3</td>\n",
       "      <td>2015-12-06</td>\n",
       "      <td>1.08</td>\n",
       "      <td>78992.15</td>\n",
       "      <td>1132.00</td>\n",
       "      <td>71976.41</td>\n",
       "      <td>72.58</td>\n",
       "      <td>5811.16</td>\n",
       "      <td>5677.40</td>\n",
       "      <td>133.76</td>\n",
       "      <td>0.0</td>\n",
       "      <td>conventional</td>\n",
       "      <td>2015</td>\n",
       "      <td>Albany</td>\n",
       "    </tr>\n",
       "    <tr>\n",
       "      <td>4</td>\n",
       "      <td>2015-11-29</td>\n",
       "      <td>1.28</td>\n",
       "      <td>51039.60</td>\n",
       "      <td>941.48</td>\n",
       "      <td>43838.39</td>\n",
       "      <td>75.78</td>\n",
       "      <td>6183.95</td>\n",
       "      <td>5986.26</td>\n",
       "      <td>197.69</td>\n",
       "      <td>0.0</td>\n",
       "      <td>conventional</td>\n",
       "      <td>2015</td>\n",
       "      <td>Albany</td>\n",
       "    </tr>\n",
       "  </tbody>\n",
       "</table>\n",
       "</div>"
      ],
      "text/plain": [
       "         Date  AveragePrice  Total Volume     4046       4225    4770  \\\n",
       "0  2015-12-27          1.33      64236.62  1036.74   54454.85   48.16   \n",
       "1  2015-12-20          1.35      54876.98   674.28   44638.81   58.33   \n",
       "2  2015-12-13          0.93     118220.22   794.70  109149.67  130.50   \n",
       "3  2015-12-06          1.08      78992.15  1132.00   71976.41   72.58   \n",
       "4  2015-11-29          1.28      51039.60   941.48   43838.39   75.78   \n",
       "\n",
       "   Total Bags  Small Bags  Large Bags  XLarge Bags          type  year  region  \n",
       "0     8696.87     8603.62       93.25          0.0  conventional  2015  Albany  \n",
       "1     9505.56     9408.07       97.49          0.0  conventional  2015  Albany  \n",
       "2     8145.35     8042.21      103.14          0.0  conventional  2015  Albany  \n",
       "3     5811.16     5677.40      133.76          0.0  conventional  2015  Albany  \n",
       "4     6183.95     5986.26      197.69          0.0  conventional  2015  Albany  "
      ]
     },
     "execution_count": 2,
     "metadata": {},
     "output_type": "execute_result"
    }
   ],
   "source": [
    "%matplotlib inline\n",
    "\n",
    "df = pd.read_csv('avocado.csv').iloc[:, 1:]\n",
    "\n",
    "df.head()"
   ]
  },
  {
   "cell_type": "markdown",
   "metadata": {},
   "source": [
    "# Data Description: \n",
    "\n",
    "The table below represents weekly 2018 retail scan data for National retail volume (units) and price. Retail scan data comes directly from retailer's cash registers based on actual retail sales of Hass avocados. Starting in 2013, the table below reflects an expanded, multi-outlet retail data set. Multi-outlet reporting includes an aggregation of the following channels: grocery, mass, club, drug, dollar and military. The Average Price (of avocados) in the table reflects a per unit (per avocado) cost, even when multiple units (avocados) are sold in bags. The Product Lookup codes (PLU’s) in the table are only for Hass avocados. Other varieties of avocados (e.g. greenskins) are not included in this table. Here, type is a categorical variable.\n",
    "\n",
    "(1) Date: the data of the observation\n",
    "\n",
    "(2) AveragePrice: the average price of a single avocado\n",
    "\n",
    "(3) TotalVolume: Total number of avocados sold\n",
    "\n",
    "(4) 4046: Total number of avocados with PLU 4046 sold\n",
    "\n",
    "(5) 4225: Total number of avocados with PLU 4225 sold\n",
    "\n",
    "(6) 4770: Total number of avocados with PLU 4770 sold\n",
    "\n",
    "(7) Total Bags: Total number of bags (in millions)\n",
    "\n",
    "(8) Small Bags: Number of small bags (in millions)\n",
    "\n",
    "(9) Large Bags: Number of large bags (in millions)\n",
    "\n",
    "(10) XLarge Bags: Number of extra large bags (in millions)\n",
    "\n",
    "(11) Type: Type of avocados: conventional or organic\n",
    "\n",
    "(12) year: the year of the observation\n",
    "\n",
    "(13) region: the city or region of the observations"
   ]
  },
  {
   "cell_type": "code",
   "execution_count": 3,
   "metadata": {},
   "outputs": [
    {
     "data": {
      "text/plain": [
       "Date            18249\n",
       "AveragePrice    18249\n",
       "Total Volume    18249\n",
       "4046            18249\n",
       "4225            18249\n",
       "4770            18249\n",
       "Total Bags      18249\n",
       "Small Bags      18249\n",
       "Large Bags      18249\n",
       "XLarge Bags     18249\n",
       "type            18249\n",
       "year            18249\n",
       "region          18249\n",
       "dtype: int64"
      ]
     },
     "execution_count": 3,
     "metadata": {},
     "output_type": "execute_result"
    }
   ],
   "source": [
    "df.count()"
   ]
  },
  {
   "cell_type": "code",
   "execution_count": 4,
   "metadata": {},
   "outputs": [
    {
     "data": {
      "text/plain": [
       "LasVegas               338\n",
       "BuffaloRochester       338\n",
       "RichmondNorfolk        338\n",
       "Atlanta                338\n",
       "Charlotte              338\n",
       "LosAngeles             338\n",
       "Pittsburgh             338\n",
       "Columbus               338\n",
       "Orlando                338\n",
       "Louisville             338\n",
       "Jacksonville           338\n",
       "Seattle                338\n",
       "Detroit                338\n",
       "NorthernNewEngland     338\n",
       "SouthCarolina          338\n",
       "Plains                 338\n",
       "PhoenixTucson          338\n",
       "Spokane                338\n",
       "TotalUS                338\n",
       "Philadelphia           338\n",
       "NewOrleansMobile       338\n",
       "HartfordSpringfield    338\n",
       "Boston                 338\n",
       "Midsouth               338\n",
       "Syracuse               338\n",
       "Chicago                338\n",
       "NewYork                338\n",
       "Southeast              338\n",
       "Portland               338\n",
       "Albany                 338\n",
       "Northeast              338\n",
       "Denver                 338\n",
       "Houston                338\n",
       "Sacramento             338\n",
       "SanDiego               338\n",
       "West                   338\n",
       "HarrisburgScranton     338\n",
       "California             338\n",
       "StLouis                338\n",
       "SouthCentral           338\n",
       "Boise                  338\n",
       "CincinnatiDayton       338\n",
       "BaltimoreWashington    338\n",
       "Indianapolis           338\n",
       "Roanoke                338\n",
       "RaleighGreensboro      338\n",
       "Tampa                  338\n",
       "Nashville              338\n",
       "SanFrancisco           338\n",
       "GrandRapids            338\n",
       "GreatLakes             338\n",
       "MiamiFtLauderdale      338\n",
       "DallasFtWorth          338\n",
       "WestTexNewMexico       335\n",
       "Name: region, dtype: int64"
      ]
     },
     "execution_count": 4,
     "metadata": {},
     "output_type": "execute_result"
    }
   ],
   "source": [
    "df['region'].value_counts()"
   ]
  },
  {
   "cell_type": "code",
   "execution_count": 5,
   "metadata": {},
   "outputs": [
    {
     "data": {
      "text/plain": [
       "54"
      ]
     },
     "execution_count": 5,
     "metadata": {},
     "output_type": "execute_result"
    }
   ],
   "source": [
    "len(df[\"region\"].unique())"
   ]
  },
  {
   "cell_type": "code",
   "execution_count": 6,
   "metadata": {},
   "outputs": [
    {
     "data": {
      "text/plain": [
       "2017    5722\n",
       "2016    5616\n",
       "2015    5615\n",
       "2018    1296\n",
       "Name: year, dtype: int64"
      ]
     },
     "execution_count": 6,
     "metadata": {},
     "output_type": "execute_result"
    }
   ],
   "source": [
    "df['year'].value_counts()"
   ]
  },
  {
   "cell_type": "code",
   "execution_count": 7,
   "metadata": {},
   "outputs": [
    {
     "data": {
      "text/plain": [
       "conventional    9126\n",
       "organic         9123\n",
       "Name: type, dtype: int64"
      ]
     },
     "execution_count": 7,
     "metadata": {},
     "output_type": "execute_result"
    }
   ],
   "source": [
    "df['type'].value_counts()"
   ]
  },
  {
   "cell_type": "markdown",
   "metadata": {},
   "source": [
    "The total number of this dataset is 18249. There are no missing values in this dataset. We investigate the sales of avocados around 4-year period of time and among 54 different regions in the United States. The regions are located on most of the states in the US. The data on the conventional and organic types are close, so as to compare the sales between these two different types."
   ]
  },
  {
   "cell_type": "markdown",
   "metadata": {},
   "source": [
    "# Analysis, Modeling, Visualization:"
   ]
  },
  {
   "cell_type": "markdown",
   "metadata": {},
   "source": [
    "To avoid contaminating the raw data, we copied and worked on the dataframe df_temp."
   ]
  },
  {
   "cell_type": "code",
   "execution_count": 8,
   "metadata": {},
   "outputs": [],
   "source": [
    "df_temp = df.copy(deep=True)"
   ]
  },
  {
   "cell_type": "markdown",
   "metadata": {},
   "source": [
    "(1) For different types of avocados, how was the sales in different regions ? "
   ]
  },
  {
   "cell_type": "code",
   "execution_count": 9,
   "metadata": {},
   "outputs": [
    {
     "data": {
      "image/png": "[encoded data removed]",
      "text/plain": [
       "<Figure size 648x1152 with 1 Axes>"
      ]
     },
     "metadata": {
      "needs_background": "light"
     },
     "output_type": "display_data"
    }
   ],
   "source": [
    "lst = [\"TotalUS\",\"West\",\"Midsouth\", \"SouthCentral\",\"Plains\", \"Northeast\",\"Southeast\",\"California\", \"GreatLakes\"]\n",
    "\n",
    "# Compute the total volume of conventional type and summarize by region\n",
    "df1 = df_temp[(df_temp[\"type\"]==\"conventional\") &(df_temp[\"region\"].isin(lst)==False)]\n",
    "df1 = df1[[\"region\", \"Total Volume\"]]\n",
    "df1 = df1.groupby(\"region\").sum()\n",
    "\n",
    "# Compute the total volume of organic type and summarize by region\n",
    "df2 = df_temp[(df_temp[\"type\"]==\"organic\") &(df_temp[\"region\"].isin(lst)==False)]\n",
    "df2 = df2[[\"region\", \"Total Volume\"]]\n",
    "df2 = df2.groupby(\"region\").sum()\n",
    "\n",
    "df1 = df1.rename(columns={\"Total Volume\": \"Total Volume conventional\"})\n",
    "df2 = df2.rename(columns={\"Total Volume\": \"Total Volume organic\"})\n",
    "frames = [df1, df2]\n",
    "result = pd.concat(frames,axis = 1)\n",
    "result = result.reset_index()\n",
    "col1 = result[\"region\"].to_numpy()\n",
    "col2 = result[\"Total Volume conventional\"].to_numpy()\n",
    "col3 = result[\"Total Volume organic\"].to_numpy()\n",
    "mat = pd.DataFrame({'conventional': col2,'organic': col3}, index=col1)\n",
    "ax = mat.plot.barh(rot=0, figsize=(9,16))"
   ]
  },
  {
   "cell_type": "markdown",
   "metadata": {},
   "source": [
    "From the plot above, we eliminate all information related with regions. We focus on the total volume on different cities. We have a barchat on the total volume of conventional and organic avocadoes. The vertical axis is the region and the horizonal axis is the number of total volume computed from the data.\n",
    "\n",
    "It is clear that the total volume is proportional to the population in this cities, such as Los Angeles in the west coast and New York in the east coast. The sum illustrated in this barchat comes from the data from 3 years. Again, the total volume in the middle of the United States is much less than the east or west coast region. This may be becasue the transportation limits.\n",
    "\n",
    "Compared with two types of avocadoes, the demand for the conventional is around 5 times higher than the demand for the organic in some cities. The ratio between the demand for these two types will be higher in some cities.\n",
    "\n",
    "From the producers' perspective, we analyze the total volume of demands and we can focus more on the markets in both coast regions. If the weather condition and cost condition satisfy, we can consider to build more areas to plant the avocadoes close to both coast, which will cut the huge cost on the transportation. We can decrease to cultivate the organic avocadoes to make a balance between the demand and supply."
   ]
  },
  {
   "cell_type": "markdown",
   "metadata": {},
   "source": [
    "(2) Fix one region such as totalUS and consider the conventional type, which Product Lookup codes (PLU) is highly recommended ? "
   ]
  },
  {
   "cell_type": "code",
   "execution_count": 10,
   "metadata": {},
   "outputs": [],
   "source": [
    "data1 = df_temp[(df[\"region\"]==\"TotalUS\")&(df[\"type\"]==\"conventional\")]\n",
    "data1 = data1[[\"4046\",\"4225\",\"4770\"]].to_numpy()\n",
    "# find the column sum\n",
    "data1 = np.sum(data1,0)\n",
    "total = sum(data1)\n",
    "prop = data1/total"
   ]
  },
  {
   "cell_type": "code",
   "execution_count": 11,
   "metadata": {},
   "outputs": [
    {
     "data": {
      "image/png": "[encoded data removed]",
      "text/plain": [
       "<Figure size 432x288 with 1 Axes>"
      ]
     },
     "metadata": {},
     "output_type": "display_data"
    }
   ],
   "source": [
    "labels = \"4046\",\"4225\",\"4770\"\n",
    "explode = (0, 0.1, 0) \n",
    "\n",
    "fig1, ax1 = plt.subplots()\n",
    "ax1.pie(prop, explode=explode, labels=labels, autopct='%1.1f%%',\n",
    "        shadow=True, startangle=90)\n",
    "ax1.axis('equal')  # Equal aspect ratio ensures that pie is drawn as a circle.\n",
    "\n",
    "plt.show()"
   ]
  },
  {
   "cell_type": "markdown",
   "metadata": {},
   "source": [
    "We worked on the data of volume for three different Product Lookup codes (PLU). We take the sum of each PLU, which represents three different products, considering the numbers among the United States. It is clear that product 4046 and product 4225 occupy most of capacities of avocado markets. Product 4770 is only 3.7 percent of the markets. The consumers are more likely to buy product 4046 and 4225 rather than product 4770. This implies that we can improve the productivity of these avocados to get more revenues from the retail."
   ]
  },
  {
   "cell_type": "markdown",
   "metadata": {},
   "source": [
    "(3) Based on this dataset, determine the factor which influence on the average price."
   ]
  },
  {
   "cell_type": "markdown",
   "metadata": {},
   "source": [
    "With the basic relationship between demand and supply, we proposal to build a model on the average price of avocados and total number of different products sold in total US. We first plot some scatter plots to see the trend of these variables. Here, we only work on the conventional type of avocados."
   ]
  },
  {
   "cell_type": "code",
   "execution_count": 12,
   "metadata": {},
   "outputs": [],
   "source": [
    "data2 = df_temp[(df[\"region\"]==\"TotalUS\")&(df[\"type\"]==\"conventional\")]\n",
    "data2 = data2[[\"AveragePrice\",\"4046\",\"4225\",\"4770\"]]\n",
    "data2 = data2.reset_index()\n",
    "data2 = data2.drop(columns=[\"index\"])"
   ]
  },
  {
   "cell_type": "markdown",
   "metadata": {},
   "source": [
    "Since the total number sold of these three products are much larger than the average price and these numbers have different magnitude with the price, we work on the scale data. Avoid the negative value in the column and we consider the min-max procedure."
   ]
  },
  {
   "cell_type": "code",
   "execution_count": 13,
   "metadata": {},
   "outputs": [
    {
     "data": {
      "text/html": [
       "<div>\n",
       "<style scoped>\n",
       "    .dataframe tbody tr th:only-of-type {\n",
       "        vertical-align: middle;\n",
       "    }\n",
       "\n",
       "    .dataframe tbody tr th {\n",
       "        vertical-align: top;\n",
       "    }\n",
       "\n",
       "    .dataframe thead th {\n",
       "        text-align: right;\n",
       "    }\n",
       "</style>\n",
       "<table border=\"1\" class=\"dataframe\">\n",
       "  <thead>\n",
       "    <tr style=\"text-align: right;\">\n",
       "      <th></th>\n",
       "      <th>AveragePrice</th>\n",
       "      <th>n_4046</th>\n",
       "      <th>n_4225</th>\n",
       "      <th>n_4770</th>\n",
       "    </tr>\n",
       "  </thead>\n",
       "  <tbody>\n",
       "    <tr>\n",
       "      <td>0</td>\n",
       "      <td>0.95</td>\n",
       "      <td>0.165771</td>\n",
       "      <td>0.245683</td>\n",
       "      <td>0.381416</td>\n",
       "    </tr>\n",
       "    <tr>\n",
       "      <td>1</td>\n",
       "      <td>0.98</td>\n",
       "      <td>0.107457</td>\n",
       "      <td>0.181944</td>\n",
       "      <td>0.388991</td>\n",
       "    </tr>\n",
       "    <tr>\n",
       "      <td>2</td>\n",
       "      <td>0.93</td>\n",
       "      <td>0.180282</td>\n",
       "      <td>0.290325</td>\n",
       "      <td>0.305040</td>\n",
       "    </tr>\n",
       "    <tr>\n",
       "      <td>3</td>\n",
       "      <td>0.89</td>\n",
       "      <td>0.151687</td>\n",
       "      <td>0.389821</td>\n",
       "      <td>0.266741</td>\n",
       "    </tr>\n",
       "    <tr>\n",
       "      <td>4</td>\n",
       "      <td>0.99</td>\n",
       "      <td>0.068329</td>\n",
       "      <td>0.157956</td>\n",
       "      <td>0.175540</td>\n",
       "    </tr>\n",
       "  </tbody>\n",
       "</table>\n",
       "</div>"
      ],
      "text/plain": [
       "   AveragePrice    n_4046    n_4225    n_4770\n",
       "0          0.95  0.165771  0.245683  0.381416\n",
       "1          0.98  0.107457  0.181944  0.388991\n",
       "2          0.93  0.180282  0.290325  0.305040\n",
       "3          0.89  0.151687  0.389821  0.266741\n",
       "4          0.99  0.068329  0.157956  0.175540"
      ]
     },
     "execution_count": 13,
     "metadata": {},
     "output_type": "execute_result"
    }
   ],
   "source": [
    "min_max_scaler = preprocessing.MinMaxScaler()\n",
    "scaled_array = min_max_scaler.fit_transform(data2[[\"4046\",\"4225\",\"4770\"]].values.astype(float))\n",
    "df_normalized = pd.DataFrame(scaled_array)\n",
    "df_normalized = pd.concat([data2[\"AveragePrice\"],df_normalized],axis = 1)\n",
    "df_normalized = df_normalized.rename(columns={0: \"n_4046\", 1:\"n_4225\",2:\"n_4770\"})\n",
    "df_normalized.head()"
   ]
  },
  {
   "cell_type": "code",
   "execution_count": 14,
   "metadata": {},
   "outputs": [
    {
     "data": {
      "text/plain": [
       "<matplotlib.axes._subplots.AxesSubplot at 0x2636406fbc8>"
      ]
     },
     "execution_count": 14,
     "metadata": {},
     "output_type": "execute_result"
    },
    {
     "data": {
      "image/png": "[encoded data removed]",
      "text/plain": [
       "<Figure size 432x288 with 1 Axes>"
      ]
     },
     "metadata": {
      "needs_background": "light"
     },
     "output_type": "display_data"
    }
   ],
   "source": [
    "df_normalized.plot.scatter(x=\"n_4046\", y=\"AveragePrice\")"
   ]
  },
  {
   "cell_type": "code",
   "execution_count": 15,
   "metadata": {},
   "outputs": [
    {
     "data": {
      "text/plain": [
       "<matplotlib.axes._subplots.AxesSubplot at 0x263640cc688>"
      ]
     },
     "execution_count": 15,
     "metadata": {},
     "output_type": "execute_result"
    },
    {
     "data": {
      "image/png": "[encoded data removed]",
      "text/plain": [
       "<Figure size 432x288 with 1 Axes>"
      ]
     },
     "metadata": {
      "needs_background": "light"
     },
     "output_type": "display_data"
    }
   ],
   "source": [
    "df_normalized.plot.scatter(x=\"n_4225\", y=\"AveragePrice\")"
   ]
  },
  {
   "cell_type": "code",
   "execution_count": 16,
   "metadata": {},
   "outputs": [
    {
     "data": {
      "text/plain": [
       "<matplotlib.axes._subplots.AxesSubplot at 0x2636412c848>"
      ]
     },
     "execution_count": 16,
     "metadata": {},
     "output_type": "execute_result"
    },
    {
     "data": {
      "image/png": "[encoded data removed]",
      "text/plain": [
       "<Figure size 432x288 with 1 Axes>"
      ]
     },
     "metadata": {
      "needs_background": "light"
     },
     "output_type": "display_data"
    }
   ],
   "source": [
    "df_normalized.plot.scatter(x=\"n_4770\", y=\"AveragePrice\")"
   ]
  },
  {
   "cell_type": "markdown",
   "metadata": {},
   "source": [
    "Based on the scatter plot, we find some relationship between the average price and number sold of different products."
   ]
  },
  {
   "cell_type": "code",
   "execution_count": 17,
   "metadata": {},
   "outputs": [],
   "source": [
    "X_train, X_test, y_train, y_test = train_test_split(df_normalized[[\"n_4046\",\"n_4225\",\"n_4770\"]],\n",
    "                                                    df_normalized[\"AveragePrice\"], \n",
    "                                                    test_size=0.05,\n",
    "                                                    random_state= 9326)\n",
    "lm = LinearRegression()\n",
    "model = lm.fit(X_train, y_train)\n",
    "y_pred = lm.predict(X_test)"
   ]
  },
  {
   "cell_type": "code",
   "execution_count": 18,
   "metadata": {},
   "outputs": [
    {
     "data": {
      "text/html": [
       "<div>\n",
       "<style scoped>\n",
       "    .dataframe tbody tr th:only-of-type {\n",
       "        vertical-align: middle;\n",
       "    }\n",
       "\n",
       "    .dataframe tbody tr th {\n",
       "        vertical-align: top;\n",
       "    }\n",
       "\n",
       "    .dataframe thead th {\n",
       "        text-align: right;\n",
       "    }\n",
       "</style>\n",
       "<table border=\"1\" class=\"dataframe\">\n",
       "  <thead>\n",
       "    <tr style=\"text-align: right;\">\n",
       "      <th></th>\n",
       "      <th>Coefficient</th>\n",
       "    </tr>\n",
       "  </thead>\n",
       "  <tbody>\n",
       "    <tr>\n",
       "      <td>n_4046</td>\n",
       "      <td>-0.088592</td>\n",
       "    </tr>\n",
       "    <tr>\n",
       "      <td>n_4225</td>\n",
       "      <td>-0.457777</td>\n",
       "    </tr>\n",
       "    <tr>\n",
       "      <td>n_4770</td>\n",
       "      <td>-0.273697</td>\n",
       "    </tr>\n",
       "  </tbody>\n",
       "</table>\n",
       "</div>"
      ],
      "text/plain": [
       "        Coefficient\n",
       "n_4046    -0.088592\n",
       "n_4225    -0.457777\n",
       "n_4770    -0.273697"
      ]
     },
     "execution_count": 18,
     "metadata": {},
     "output_type": "execute_result"
    }
   ],
   "source": [
    "coeff_df = pd.DataFrame(lm.coef_, [\"n_4046\",\"n_4225\",\"n_4770\"], columns=['Coefficient'])  \n",
    "coeff_df"
   ]
  },
  {
   "cell_type": "code",
   "execution_count": 19,
   "metadata": {},
   "outputs": [
    {
     "name": "stdout",
     "output_type": "stream",
     "text": [
      "0.9565341874944513\n"
     ]
    }
   ],
   "source": [
    "print(r2_score(y_test, y_pred))"
   ]
  },
  {
   "cell_type": "code",
   "execution_count": 20,
   "metadata": {},
   "outputs": [
    {
     "name": "stdout",
     "output_type": "stream",
     "text": [
      "0.00045215177305154745\n"
     ]
    }
   ],
   "source": [
    "print(mean_squared_error(y_test, y_pred))"
   ]
  },
  {
   "cell_type": "markdown",
   "metadata": {},
   "source": [
    "We split the data into two parts. 95 percent of training data and 5 percent of test data. We fit the data into a multiple linear regression model. The coefficient of these normalized data for each product is listed above. $R^2$ is 0.95, which means the model fits well. We also compute the mean squared error which is aroung $4\\times10^{-3}$. From this model, we can predict the average price of avocado given the total volume of each product. \n",
    "\n",
    "From the retailers' perspective, we could also determine the average price of avocados. Based on the predicted volume and this multiple linear regression model, we will have a predicted average price. Based on this predicted value, if we can determine the actual price on this information. If we have a little price premium on this predicted value, as a result, we will receive more revenue."
   ]
  },
  {
   "cell_type": "markdown",
   "metadata": {},
   "source": [
    "# Reference:\n",
    "[1] Hass Avocado Board, http://www.hassavocadoboard.com/retail/volume-and-price-data"
   ]
  },
  {
   "cell_type": "code",
   "execution_count": null,
   "metadata": {},
   "outputs": [],
   "source": []
  }
 ],
 "metadata": {
  "kernelspec": {
   "display_name": "Python 3",
   "language": "python",
   "name": "python3"
  },
  "language_info": {
   "codemirror_mode": {
    "name": "ipython",
    "version": 3
   },
   "file_extension": ".py",
   "mimetype": "text/x-python",
   "name": "python",
   "nbconvert_exporter": "python",
   "pygments_lexer": "ipython3",
   "version": "3.7.4"
  }
 },
 "nbformat": 4,
 "nbformat_minor": 2
}
